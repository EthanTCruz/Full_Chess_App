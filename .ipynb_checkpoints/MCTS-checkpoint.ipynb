{
 "cells": [
  {
   "cell_type": "code",
   "execution_count": 4,
   "id": "6149358c-71ec-4ec8-9fcf-ba14b81554a6",
   "metadata": {},
   "outputs": [
    {
     "name": "stdout",
     "output_type": "stream",
     "text": [
      "Collecting python-chess\n",
      "  Downloading python_chess-1.999-py3-none-any.whl (1.4 kB)\n",
      "Requirement already satisfied: chess<2,>=1 in c:\\users\\ethan\\appdata\\local\\programs\\python\\python311\\lib\\site-packages (from python-chess) (1.10.0)\n",
      "Installing collected packages: python-chess\n",
      "Successfully installed python-chess-1.999\n"
     ]
    },
    {
     "name": "stderr",
     "output_type": "stream",
     "text": [
      "DEPRECATION: Loading egg at c:\\users\\ethan\\appdata\\local\\programs\\python\\python311\\lib\\site-packages\\absl_py-2.0.0-py3.11.egg is deprecated. pip 23.3 will enforce this behaviour change. A possible replacement is to use pip for package installation..\n",
      "DEPRECATION: Loading egg at c:\\users\\ethan\\appdata\\local\\programs\\python\\python311\\lib\\site-packages\\ansi2html-1.8.0-py3.11.egg is deprecated. pip 23.3 will enforce this behaviour change. A possible replacement is to use pip for package installation..\n",
      "DEPRECATION: Loading egg at c:\\users\\ethan\\appdata\\local\\programs\\python\\python311\\lib\\site-packages\\astunparse-1.6.3-py3.11.egg is deprecated. pip 23.3 will enforce this behaviour change. A possible replacement is to use pip for package installation..\n",
      "DEPRECATION: Loading egg at c:\\users\\ethan\\appdata\\local\\programs\\python\\python311\\lib\\site-packages\\blinker-1.7.0-py3.11.egg is deprecated. pip 23.3 will enforce this behaviour change. A possible replacement is to use pip for package installation..\n",
      "DEPRECATION: Loading egg at c:\\users\\ethan\\appdata\\local\\programs\\python\\python311\\lib\\site-packages\\cachelib-0.9.0-py3.11.egg is deprecated. pip 23.3 will enforce this behaviour change. A possible replacement is to use pip for package installation..\n",
      "DEPRECATION: Loading egg at c:\\users\\ethan\\appdata\\local\\programs\\python\\python311\\lib\\site-packages\\cachetools-5.3.2-py3.11.egg is deprecated. pip 23.3 will enforce this behaviour change. A possible replacement is to use pip for package installation..\n",
      "DEPRECATION: Loading egg at c:\\users\\ethan\\appdata\\local\\programs\\python\\python311\\lib\\site-packages\\certifi-2023.11.17-py3.11.egg is deprecated. pip 23.3 will enforce this behaviour change. A possible replacement is to use pip for package installation..\n",
      "DEPRECATION: Loading egg at c:\\users\\ethan\\appdata\\local\\programs\\python\\python311\\lib\\site-packages\\charset_normalizer-3.3.2-py3.11-win-amd64.egg is deprecated. pip 23.3 will enforce this behaviour change. A possible replacement is to use pip for package installation..\n",
      "DEPRECATION: Loading egg at c:\\users\\ethan\\appdata\\local\\programs\\python\\python311\\lib\\site-packages\\cmdstanpy-1.2.0-py3.11.egg is deprecated. pip 23.3 will enforce this behaviour change. A possible replacement is to use pip for package installation..\n",
      "DEPRECATION: Loading egg at c:\\users\\ethan\\appdata\\local\\programs\\python\\python311\\lib\\site-packages\\contourpy-1.2.0-py3.11-win-amd64.egg is deprecated. pip 23.3 will enforce this behaviour change. A possible replacement is to use pip for package installation..\n",
      "DEPRECATION: Loading egg at c:\\users\\ethan\\appdata\\local\\programs\\python\\python311\\lib\\site-packages\\cowsay-6.1-py3.11.egg is deprecated. pip 23.3 will enforce this behaviour change. A possible replacement is to use pip for package installation..\n",
      "DEPRECATION: Loading egg at c:\\users\\ethan\\appdata\\local\\programs\\python\\python311\\lib\\site-packages\\cycler-0.12.1-py3.11.egg is deprecated. pip 23.3 will enforce this behaviour change. A possible replacement is to use pip for package installation..\n",
      "DEPRECATION: Loading egg at c:\\users\\ethan\\appdata\\local\\programs\\python\\python311\\lib\\site-packages\\cython-3.0.6-py3.11.egg is deprecated. pip 23.3 will enforce this behaviour change. A possible replacement is to use pip for package installation..\n",
      "DEPRECATION: Loading egg at c:\\users\\ethan\\appdata\\local\\programs\\python\\python311\\lib\\site-packages\\dash-2.14.2-py3.11.egg is deprecated. pip 23.3 will enforce this behaviour change. A possible replacement is to use pip for package installation..\n",
      "DEPRECATION: Loading egg at c:\\users\\ethan\\appdata\\local\\programs\\python\\python311\\lib\\site-packages\\dash_core_components-2.0.0-py3.11.egg is deprecated. pip 23.3 will enforce this behaviour change. A possible replacement is to use pip for package installation..\n",
      "DEPRECATION: Loading egg at c:\\users\\ethan\\appdata\\local\\programs\\python\\python311\\lib\\site-packages\\dash_html_components-2.0.0-py3.11.egg is deprecated. pip 23.3 will enforce this behaviour change. A possible replacement is to use pip for package installation..\n",
      "DEPRECATION: Loading egg at c:\\users\\ethan\\appdata\\local\\programs\\python\\python311\\lib\\site-packages\\dash_table-5.0.0-py3.11.egg is deprecated. pip 23.3 will enforce this behaviour change. A possible replacement is to use pip for package installation..\n",
      "DEPRECATION: Loading egg at c:\\users\\ethan\\appdata\\local\\programs\\python\\python311\\lib\\site-packages\\flask-3.0.0-py3.11.egg is deprecated. pip 23.3 will enforce this behaviour change. A possible replacement is to use pip for package installation..\n",
      "DEPRECATION: Loading egg at c:\\users\\ethan\\appdata\\local\\programs\\python\\python311\\lib\\site-packages\\flask_caching-2.1.0-py3.11.egg is deprecated. pip 23.3 will enforce this behaviour change. A possible replacement is to use pip for package installation..\n",
      "DEPRECATION: Loading egg at c:\\users\\ethan\\appdata\\local\\programs\\python\\python311\\lib\\site-packages\\flatbuffers-23.5.26-py3.11.egg is deprecated. pip 23.3 will enforce this behaviour change. A possible replacement is to use pip for package installation..\n",
      "DEPRECATION: Loading egg at c:\\users\\ethan\\appdata\\local\\programs\\python\\python311\\lib\\site-packages\\fonttools-4.46.0-py3.11-win-amd64.egg is deprecated. pip 23.3 will enforce this behaviour change. A possible replacement is to use pip for package installation..\n",
      "DEPRECATION: Loading egg at c:\\users\\ethan\\appdata\\local\\programs\\python\\python311\\lib\\site-packages\\gast-0.5.4-py3.11.egg is deprecated. pip 23.3 will enforce this behaviour change. A possible replacement is to use pip for package installation..\n",
      "DEPRECATION: Loading egg at c:\\users\\ethan\\appdata\\local\\programs\\python\\python311\\lib\\site-packages\\google_auth-2.25.2-py3.11.egg is deprecated. pip 23.3 will enforce this behaviour change. A possible replacement is to use pip for package installation..\n",
      "DEPRECATION: Loading egg at c:\\users\\ethan\\appdata\\local\\programs\\python\\python311\\lib\\site-packages\\google_auth_oauthlib-1.1.0-py3.11.egg is deprecated. pip 23.3 will enforce this behaviour change. A possible replacement is to use pip for package installation..\n",
      "DEPRECATION: Loading egg at c:\\users\\ethan\\appdata\\local\\programs\\python\\python311\\lib\\site-packages\\google_pasta-0.2.0-py3.11.egg is deprecated. pip 23.3 will enforce this behaviour change. A possible replacement is to use pip for package installation..\n",
      "DEPRECATION: Loading egg at c:\\users\\ethan\\appdata\\local\\programs\\python\\python311\\lib\\site-packages\\grpcio-1.60.0-py3.11-win-amd64.egg is deprecated. pip 23.3 will enforce this behaviour change. A possible replacement is to use pip for package installation..\n",
      "DEPRECATION: Loading egg at c:\\users\\ethan\\appdata\\local\\programs\\python\\python311\\lib\\site-packages\\h5py-3.10.0-py3.11-win-amd64.egg is deprecated. pip 23.3 will enforce this behaviour change. A possible replacement is to use pip for package installation..\n",
      "DEPRECATION: Loading egg at c:\\users\\ethan\\appdata\\local\\programs\\python\\python311\\lib\\site-packages\\holidays-0.38-py3.11.egg is deprecated. pip 23.3 will enforce this behaviour change. A possible replacement is to use pip for package installation..\n",
      "DEPRECATION: Loading egg at c:\\users\\ethan\\appdata\\local\\programs\\python\\python311\\lib\\site-packages\\hupper-1.12-py3.11.egg is deprecated. pip 23.3 will enforce this behaviour change. A possible replacement is to use pip for package installation..\n",
      "DEPRECATION: Loading egg at c:\\users\\ethan\\appdata\\local\\programs\\python\\python311\\lib\\site-packages\\importlib_metadata-7.0.0-py3.11.egg is deprecated. pip 23.3 will enforce this behaviour change. A possible replacement is to use pip for package installation..\n",
      "DEPRECATION: Loading egg at c:\\users\\ethan\\appdata\\local\\programs\\python\\python311\\lib\\site-packages\\importlib_resources-6.1.1-py3.11.egg is deprecated. pip 23.3 will enforce this behaviour change. A possible replacement is to use pip for package installation..\n",
      "DEPRECATION: Loading egg at c:\\users\\ethan\\appdata\\local\\programs\\python\\python311\\lib\\site-packages\\itsdangerous-2.1.2-py3.11.egg is deprecated. pip 23.3 will enforce this behaviour change. A possible replacement is to use pip for package installation..\n",
      "DEPRECATION: Loading egg at c:\\users\\ethan\\appdata\\local\\programs\\python\\python311\\lib\\site-packages\\jinja2-3.1.2-py3.11.egg is deprecated. pip 23.3 will enforce this behaviour change. A possible replacement is to use pip for package installation..\n",
      "DEPRECATION: Loading egg at c:\\users\\ethan\\appdata\\local\\programs\\python\\python311\\lib\\site-packages\\joblib-1.3.2-py3.11.egg is deprecated. pip 23.3 will enforce this behaviour change. A possible replacement is to use pip for package installation..\n",
      "DEPRECATION: Loading egg at c:\\users\\ethan\\appdata\\local\\programs\\python\\python311\\lib\\site-packages\\keras-2.15.0-py3.11.egg is deprecated. pip 23.3 will enforce this behaviour change. A possible replacement is to use pip for package installation..\n",
      "DEPRECATION: Loading egg at c:\\users\\ethan\\appdata\\local\\programs\\python\\python311\\lib\\site-packages\\kiwisolver-1.4.5-py3.11-win-amd64.egg is deprecated. pip 23.3 will enforce this behaviour change. A possible replacement is to use pip for package installation..\n",
      "DEPRECATION: Loading egg at c:\\users\\ethan\\appdata\\local\\programs\\python\\python311\\lib\\site-packages\\libclang-16.0.6-py3.11-win-amd64.egg is deprecated. pip 23.3 will enforce this behaviour change. A possible replacement is to use pip for package installation..\n",
      "DEPRECATION: Loading egg at c:\\users\\ethan\\appdata\\local\\programs\\python\\python311\\lib\\site-packages\\markdown-3.5.1-py3.11.egg is deprecated. pip 23.3 will enforce this behaviour change. A possible replacement is to use pip for package installation..\n",
      "DEPRECATION: Loading egg at c:\\users\\ethan\\appdata\\local\\programs\\python\\python311\\lib\\site-packages\\markupsafe-2.1.3-py3.11-win-amd64.egg is deprecated. pip 23.3 will enforce this behaviour change. A possible replacement is to use pip for package installation..\n",
      "DEPRECATION: Loading egg at c:\\users\\ethan\\appdata\\local\\programs\\python\\python311\\lib\\site-packages\\matplotlib-3.8.2-py3.11-win-amd64.egg is deprecated. pip 23.3 will enforce this behaviour change. A possible replacement is to use pip for package installation..\n",
      "DEPRECATION: Loading egg at c:\\users\\ethan\\appdata\\local\\programs\\python\\python311\\lib\\site-packages\\ml_dtypes-0.2.0-py3.11-win-amd64.egg is deprecated. pip 23.3 will enforce this behaviour change. A possible replacement is to use pip for package installation..\n",
      "DEPRECATION: Loading egg at c:\\users\\ethan\\appdata\\local\\programs\\python\\python311\\lib\\site-packages\\nest_asyncio-1.5.8-py3.11.egg is deprecated. pip 23.3 will enforce this behaviour change. A possible replacement is to use pip for package installation..\n",
      "DEPRECATION: Loading egg at c:\\users\\ethan\\appdata\\local\\programs\\python\\python311\\lib\\site-packages\\numpy-1.26.2-py3.11-win-amd64.egg is deprecated. pip 23.3 will enforce this behaviour change. A possible replacement is to use pip for package installation..\n",
      "DEPRECATION: Loading egg at c:\\users\\ethan\\appdata\\local\\programs\\python\\python311\\lib\\site-packages\\oauthlib-3.2.2-py3.11.egg is deprecated. pip 23.3 will enforce this behaviour change. A possible replacement is to use pip for package installation..\n",
      "DEPRECATION: Loading egg at c:\\users\\ethan\\appdata\\local\\programs\\python\\python311\\lib\\site-packages\\opt_einsum-3.3.0-py3.11.egg is deprecated. pip 23.3 will enforce this behaviour change. A possible replacement is to use pip for package installation..\n",
      "DEPRECATION: Loading egg at c:\\users\\ethan\\appdata\\local\\programs\\python\\python311\\lib\\site-packages\\packaging-23.2-py3.11.egg is deprecated. pip 23.3 will enforce this behaviour change. A possible replacement is to use pip for package installation..\n",
      "DEPRECATION: Loading egg at c:\\users\\ethan\\appdata\\local\\programs\\python\\python311\\lib\\site-packages\\pandas-2.1.3-py3.11-win-amd64.egg is deprecated. pip 23.3 will enforce this behaviour change. A possible replacement is to use pip for package installation..\n",
      "DEPRECATION: Loading egg at c:\\users\\ethan\\appdata\\local\\programs\\python\\python311\\lib\\site-packages\\pastedeploy-3.1.0-py3.11.egg is deprecated. pip 23.3 will enforce this behaviour change. A possible replacement is to use pip for package installation..\n",
      "DEPRECATION: Loading egg at c:\\users\\ethan\\appdata\\local\\programs\\python\\python311\\lib\\site-packages\\patsy-0.5.4-py3.11.egg is deprecated. pip 23.3 will enforce this behaviour change. A possible replacement is to use pip for package installation..\n",
      "DEPRECATION: Loading egg at c:\\users\\ethan\\appdata\\local\\programs\\python\\python311\\lib\\site-packages\\pillow-10.1.0-py3.11-win-amd64.egg is deprecated. pip 23.3 will enforce this behaviour change. A possible replacement is to use pip for package installation..\n",
      "DEPRECATION: Loading egg at c:\\users\\ethan\\appdata\\local\\programs\\python\\python311\\lib\\site-packages\\plaster-1.1.2-py3.11.egg is deprecated. pip 23.3 will enforce this behaviour change. A possible replacement is to use pip for package installation..\n",
      "DEPRECATION: Loading egg at c:\\users\\ethan\\appdata\\local\\programs\\python\\python311\\lib\\site-packages\\plaster_pastedeploy-1.0.1-py3.11.egg is deprecated. pip 23.3 will enforce this behaviour change. A possible replacement is to use pip for package installation..\n",
      "DEPRECATION: Loading egg at c:\\users\\ethan\\appdata\\local\\programs\\python\\python311\\lib\\site-packages\\plotly-5.18.0-py3.11.egg is deprecated. pip 23.3 will enforce this behaviour change. A possible replacement is to use pip for package installation..\n",
      "DEPRECATION: Loading egg at c:\\users\\ethan\\appdata\\local\\programs\\python\\python311\\lib\\site-packages\\pmdarima-2.0.4-py3.11-win-amd64.egg is deprecated. pip 23.3 will enforce this behaviour change. A possible replacement is to use pip for package installation..\n",
      "DEPRECATION: Loading egg at c:\\users\\ethan\\appdata\\local\\programs\\python\\python311\\lib\\site-packages\\prophet-1.1.5-py3.11-win-amd64.egg is deprecated. pip 23.3 will enforce this behaviour change. A possible replacement is to use pip for package installation..\n",
      "DEPRECATION: Loading egg at c:\\users\\ethan\\appdata\\local\\programs\\python\\python311\\lib\\site-packages\\protobuf-4.23.4-py3.11.egg is deprecated. pip 23.3 will enforce this behaviour change. A possible replacement is to use pip for package installation..\n",
      "DEPRECATION: Loading egg at c:\\users\\ethan\\appdata\\local\\programs\\python\\python311\\lib\\site-packages\\pyasn1-0.5.1-py3.11.egg is deprecated. pip 23.3 will enforce this behaviour change. A possible replacement is to use pip for package installation..\n",
      "DEPRECATION: Loading egg at c:\\users\\ethan\\appdata\\local\\programs\\python\\python311\\lib\\site-packages\\pyasn1_modules-0.3.0-py3.11.egg is deprecated. pip 23.3 will enforce this behaviour change. A possible replacement is to use pip for package installation..\n",
      "DEPRECATION: Loading egg at c:\\users\\ethan\\appdata\\local\\programs\\python\\python311\\lib\\site-packages\\pydantic_settings-2.1.0-py3.11.egg is deprecated. pip 23.3 will enforce this behaviour change. A possible replacement is to use pip for package installation..\n",
      "DEPRECATION: Loading egg at c:\\users\\ethan\\appdata\\local\\programs\\python\\python311\\lib\\site-packages\\pyparsing-3.1.1-py3.11.egg is deprecated. pip 23.3 will enforce this behaviour change. A possible replacement is to use pip for package installation..\n",
      "DEPRECATION: Loading egg at c:\\users\\ethan\\appdata\\local\\programs\\python\\python311\\lib\\site-packages\\pyramid-2.0.2-py3.11.egg is deprecated. pip 23.3 will enforce this behaviour change. A possible replacement is to use pip for package installation..\n",
      "DEPRECATION: Loading egg at c:\\users\\ethan\\appdata\\local\\programs\\python\\python311\\lib\\site-packages\\python_dateutil-2.8.2-py3.11.egg is deprecated. pip 23.3 will enforce this behaviour change. A possible replacement is to use pip for package installation..\n",
      "DEPRECATION: Loading egg at c:\\users\\ethan\\appdata\\local\\programs\\python\\python311\\lib\\site-packages\\python_dotenv-1.0.0-py3.11.egg is deprecated. pip 23.3 will enforce this behaviour change. A possible replacement is to use pip for package installation..\n",
      "DEPRECATION: Loading egg at c:\\users\\ethan\\appdata\\local\\programs\\python\\python311\\lib\\site-packages\\pytz-2023.3.post1-py3.11.egg is deprecated. pip 23.3 will enforce this behaviour change. A possible replacement is to use pip for package installation..\n",
      "DEPRECATION: Loading egg at c:\\users\\ethan\\appdata\\local\\programs\\python\\python311\\lib\\site-packages\\requests-2.31.0-py3.11.egg is deprecated. pip 23.3 will enforce this behaviour change. A possible replacement is to use pip for package installation..\n",
      "DEPRECATION: Loading egg at c:\\users\\ethan\\appdata\\local\\programs\\python\\python311\\lib\\site-packages\\requests_oauthlib-1.3.1-py3.11.egg is deprecated. pip 23.3 will enforce this behaviour change. A possible replacement is to use pip for package installation..\n",
      "DEPRECATION: Loading egg at c:\\users\\ethan\\appdata\\local\\programs\\python\\python311\\lib\\site-packages\\retrying-1.3.4-py3.11.egg is deprecated. pip 23.3 will enforce this behaviour change. A possible replacement is to use pip for package installation..\n",
      "DEPRECATION: Loading egg at c:\\users\\ethan\\appdata\\local\\programs\\python\\python311\\lib\\site-packages\\rsa-4.9-py3.11.egg is deprecated. pip 23.3 will enforce this behaviour change. A possible replacement is to use pip for package installation..\n",
      "DEPRECATION: Loading egg at c:\\users\\ethan\\appdata\\local\\programs\\python\\python311\\lib\\site-packages\\scikit_learn-1.3.2-py3.11-win-amd64.egg is deprecated. pip 23.3 will enforce this behaviour change. A possible replacement is to use pip for package installation..\n",
      "DEPRECATION: Loading egg at c:\\users\\ethan\\appdata\\local\\programs\\python\\python311\\lib\\site-packages\\scipy-1.11.4-py3.11-win-amd64.egg is deprecated. pip 23.3 will enforce this behaviour change. A possible replacement is to use pip for package installation..\n",
      "DEPRECATION: Loading egg at c:\\users\\ethan\\appdata\\local\\programs\\python\\python311\\lib\\site-packages\\six-1.16.0-py3.11.egg is deprecated. pip 23.3 will enforce this behaviour change. A possible replacement is to use pip for package installation..\n",
      "DEPRECATION: Loading egg at c:\\users\\ethan\\appdata\\local\\programs\\python\\python311\\lib\\site-packages\\stanio-0.3.0-py3.11.egg is deprecated. pip 23.3 will enforce this behaviour change. A possible replacement is to use pip for package installation..\n",
      "DEPRECATION: Loading egg at c:\\users\\ethan\\appdata\\local\\programs\\python\\python311\\lib\\site-packages\\statsmodels-0.14.0-py3.11-win-amd64.egg is deprecated. pip 23.3 will enforce this behaviour change. A possible replacement is to use pip for package installation..\n",
      "DEPRECATION: Loading egg at c:\\users\\ethan\\appdata\\local\\programs\\python\\python311\\lib\\site-packages\\tenacity-8.2.3-py3.11.egg is deprecated. pip 23.3 will enforce this behaviour change. A possible replacement is to use pip for package installation..\n",
      "DEPRECATION: Loading egg at c:\\users\\ethan\\appdata\\local\\programs\\python\\python311\\lib\\site-packages\\tensorboard-2.15.1-py3.11.egg is deprecated. pip 23.3 will enforce this behaviour change. A possible replacement is to use pip for package installation..\n",
      "DEPRECATION: Loading egg at c:\\users\\ethan\\appdata\\local\\programs\\python\\python311\\lib\\site-packages\\tensorboard_data_server-0.7.2-py3.11.egg is deprecated. pip 23.3 will enforce this behaviour change. A possible replacement is to use pip for package installation..\n",
      "DEPRECATION: Loading egg at c:\\users\\ethan\\appdata\\local\\programs\\python\\python311\\lib\\site-packages\\tensorflow-2.15.0-py3.11-win-amd64.egg is deprecated. pip 23.3 will enforce this behaviour change. A possible replacement is to use pip for package installation..\n",
      "DEPRECATION: Loading egg at c:\\users\\ethan\\appdata\\local\\programs\\python\\python311\\lib\\site-packages\\tensorflow_estimator-2.15.0-py3.11.egg is deprecated. pip 23.3 will enforce this behaviour change. A possible replacement is to use pip for package installation..\n",
      "DEPRECATION: Loading egg at c:\\users\\ethan\\appdata\\local\\programs\\python\\python311\\lib\\site-packages\\tensorflow_intel-2.15.0-py3.11-win-amd64.egg is deprecated. pip 23.3 will enforce this behaviour change. A possible replacement is to use pip for package installation..\n",
      "DEPRECATION: Loading egg at c:\\users\\ethan\\appdata\\local\\programs\\python\\python311\\lib\\site-packages\\tensorflow_io_gcs_filesystem-0.31.0-py3.11-win-amd64.egg is deprecated. pip 23.3 will enforce this behaviour change. A possible replacement is to use pip for package installation..\n",
      "DEPRECATION: Loading egg at c:\\users\\ethan\\appdata\\local\\programs\\python\\python311\\lib\\site-packages\\termcolor-2.4.0-py3.11.egg is deprecated. pip 23.3 will enforce this behaviour change. A possible replacement is to use pip for package installation..\n",
      "DEPRECATION: Loading egg at c:\\users\\ethan\\appdata\\local\\programs\\python\\python311\\lib\\site-packages\\threadpoolctl-3.2.0-py3.11.egg is deprecated. pip 23.3 will enforce this behaviour change. A possible replacement is to use pip for package installation..\n",
      "DEPRECATION: Loading egg at c:\\users\\ethan\\appdata\\local\\programs\\python\\python311\\lib\\site-packages\\tqdm-4.66.1-py3.11.egg is deprecated. pip 23.3 will enforce this behaviour change. A possible replacement is to use pip for package installation..\n",
      "DEPRECATION: Loading egg at c:\\users\\ethan\\appdata\\local\\programs\\python\\python311\\lib\\site-packages\\translationstring-1.4-py3.11.egg is deprecated. pip 23.3 will enforce this behaviour change. A possible replacement is to use pip for package installation..\n",
      "DEPRECATION: Loading egg at c:\\users\\ethan\\appdata\\local\\programs\\python\\python311\\lib\\site-packages\\typing_extensions-4.8.0-py3.11.egg is deprecated. pip 23.3 will enforce this behaviour change. A possible replacement is to use pip for package installation..\n",
      "DEPRECATION: Loading egg at c:\\users\\ethan\\appdata\\local\\programs\\python\\python311\\lib\\site-packages\\tzdata-2023.3-py3.11.egg is deprecated. pip 23.3 will enforce this behaviour change. A possible replacement is to use pip for package installation..\n",
      "DEPRECATION: Loading egg at c:\\users\\ethan\\appdata\\local\\programs\\python\\python311\\lib\\site-packages\\urllib3-2.1.0-py3.11.egg is deprecated. pip 23.3 will enforce this behaviour change. A possible replacement is to use pip for package installation..\n",
      "DEPRECATION: Loading egg at c:\\users\\ethan\\appdata\\local\\programs\\python\\python311\\lib\\site-packages\\venusian-3.1.0-py3.11.egg is deprecated. pip 23.3 will enforce this behaviour change. A possible replacement is to use pip for package installation..\n",
      "DEPRECATION: Loading egg at c:\\users\\ethan\\appdata\\local\\programs\\python\\python311\\lib\\site-packages\\waitress-2.1.2-py3.11.egg is deprecated. pip 23.3 will enforce this behaviour change. A possible replacement is to use pip for package installation..\n",
      "DEPRECATION: Loading egg at c:\\users\\ethan\\appdata\\local\\programs\\python\\python311\\lib\\site-packages\\webob-1.8.7-py3.11.egg is deprecated. pip 23.3 will enforce this behaviour change. A possible replacement is to use pip for package installation..\n",
      "DEPRECATION: Loading egg at c:\\users\\ethan\\appdata\\local\\programs\\python\\python311\\lib\\site-packages\\werkzeug-3.0.1-py3.11.egg is deprecated. pip 23.3 will enforce this behaviour change. A possible replacement is to use pip for package installation..\n",
      "DEPRECATION: Loading egg at c:\\users\\ethan\\appdata\\local\\programs\\python\\python311\\lib\\site-packages\\wheel-0.42.0-py3.11.egg is deprecated. pip 23.3 will enforce this behaviour change. A possible replacement is to use pip for package installation..\n",
      "DEPRECATION: Loading egg at c:\\users\\ethan\\appdata\\local\\programs\\python\\python311\\lib\\site-packages\\wrapt-1.14.1-py3.11-win-amd64.egg is deprecated. pip 23.3 will enforce this behaviour change. A possible replacement is to use pip for package installation..\n",
      "DEPRECATION: Loading egg at c:\\users\\ethan\\appdata\\local\\programs\\python\\python311\\lib\\site-packages\\zipp-3.17.0-py3.11.egg is deprecated. pip 23.3 will enforce this behaviour change. A possible replacement is to use pip for package installation..\n",
      "DEPRECATION: Loading egg at c:\\users\\ethan\\appdata\\local\\programs\\python\\python311\\lib\\site-packages\\zope.deprecation-5.0-py3.11.egg is deprecated. pip 23.3 will enforce this behaviour change. A possible replacement is to use pip for package installation..\n",
      "DEPRECATION: Loading egg at c:\\users\\ethan\\appdata\\local\\programs\\python\\python311\\lib\\site-packages\\zope.interface-6.1-py3.11-win-amd64.egg is deprecated. pip 23.3 will enforce this behaviour change. A possible replacement is to use pip for package installation..\n",
      "\n",
      "[notice] A new release of pip is available: 23.2.1 -> 23.3.2\n",
      "[notice] To update, run: python.exe -m pip install --upgrade pip\n"
     ]
    }
   ],
   "source": [
    "!pip install python-chess"
   ]
  },
  {
   "cell_type": "markdown",
   "id": "24b2d50b-b083-4399-82a4-792aaf4aeac1",
   "metadata": {},
   "source": [
    "Import necessary libraries"
   ]
  },
  {
   "cell_type": "code",
   "execution_count": 9,
   "id": "80903644-7b9f-4376-b6bf-e35635cc5d0d",
   "metadata": {},
   "outputs": [],
   "source": [
    "\n",
    "import chess\n",
    "import chess.pgn\n",
    "import chess.engine\n",
    "import random\n",
    "import time\n",
    "from math import log,sqrt,e,inf"
   ]
  },
  {
   "cell_type": "markdown",
   "id": "c8f4ba5a-13ce-4489-8df0-acbffe387527",
   "metadata": {},
   "source": [
    "Create MCTS node class for holding board position, action taken to get to position, children nodes, parent node, N for number of times parent node has been visited, n for number of times child node has been visited and V for score of current node. \n",
    "Formula to be used for explore/exploit:\n",
    "UCB = V + 2*sqrt(ln N/n)"
   ]
  },
  {
   "cell_type": "code",
   "execution_count": 10,
   "id": "ba7f5093-ab9d-448e-be77-97860ff64de1",
   "metadata": {},
   "outputs": [],
   "source": [
    "class node():\n",
    "    def __init__(self):\n",
    "        self.state = chess.Board()\n",
    "        self.action = ''\n",
    "        self.children = set()\n",
    "        self.parent = None\n",
    "        self.N = 0\n",
    "        self.n = 0\n",
    "        self.v = 0"
   ]
  },
  {
   "cell_type": "markdown",
   "id": "3bf07e37-3528-4dc8-b40a-fe0ec115bdc8",
   "metadata": {},
   "source": [
    "Function for calculation of UCB:"
   ]
  },
  {
   "cell_type": "code",
   "execution_count": 12,
   "id": "a6a6ffb0-3dc1-4117-aad6-fdea81bc3f94",
   "metadata": {},
   "outputs": [],
   "source": [
    "def ucb1(curr_node):\n",
    "    ans = curr_node.v+2*(sqrt(log(curr_node.N+e+(10**-6))/(curr_node.n+(10**-10))))\n",
    "    return ans"
   ]
  },
  {
   "cell_type": "markdown",
   "id": "e1502bd0-430f-4de2-ae52-32f467ec93f3",
   "metadata": {},
   "source": [
    "Function for expanding nodes before random playout"
   ]
  },
  {
   "cell_type": "code",
   "execution_count": 14,
   "id": "1d938dbf-186d-4ea7-9438-309111e4c435",
   "metadata": {},
   "outputs": [],
   "source": [
    "def expand(curr_node,white):\n",
    "    if(len(curr_node.children)==0):\n",
    "        return curr_node\n",
    "    max_ucb = -inf\n",
    "    if(white):\n",
    "        idx = -1\n",
    "        max_ucb = -inf\n",
    "        sel_child = None\n",
    "        for i in curr_node.children:\n",
    "            tmp = ucb1(i)\n",
    "            if(tmp>max_ucb):\n",
    "                idx = i\n",
    "                max_ucb = tmp\n",
    "                sel_child = i\n",
    "\n",
    "        return(expand(sel_child,0))\n",
    "\n",
    "    else:\n",
    "        idx = -1\n",
    "        min_ucb = inf\n",
    "        sel_child = None\n",
    "        for i in curr_node.children:\n",
    "            tmp = ucb1(i)\n",
    "            if(tmp<min_ucb):\n",
    "                idx = i\n",
    "                min_ucb = tmp\n",
    "                sel_child = i\n",
    "\n",
    "        return expand(sel_child,1)\n",
    "\n"
   ]
  },
  {
   "cell_type": "markdown",
   "id": "7ba3b4a9-0b7a-41bf-8db1-e44a5f81c33f",
   "metadata": {},
   "source": [
    "Simulate play function (Rollout in MCTS)"
   ]
  },
  {
   "cell_type": "code",
   "execution_count": 13,
   "id": "e8ce3128-eed7-4722-85b2-d3ea6bf0f45a",
   "metadata": {},
   "outputs": [],
   "source": [
    "def rollout(curr_node):\n",
    "    \n",
    "    if(curr_node.state.is_game_over()):\n",
    "        board = curr_node.state\n",
    "        if(board.result()=='1-0'):\n",
    "            #print(\"h1\")\n",
    "            return (1,curr_node)\n",
    "        elif(board.result()=='0-1'):\n",
    "            #print(\"h2\")\n",
    "            return (-1,curr_node)\n",
    "        else:\n",
    "            return (0.5,curr_node)\n",
    "    \n",
    "    all_moves = [curr_node.state.san(i) for i in list(curr_node.state.legal_moves)]\n",
    "    \n",
    "    for i in all_moves:\n",
    "        tmp_state = chess.Board(curr_node.state.fen())\n",
    "        tmp_state.push_san(i)\n",
    "        child = node()\n",
    "        child.state = tmp_state\n",
    "        child.parent = curr_node\n",
    "        curr_node.children.add(child)\n",
    "    rnd_state = random.choice(list(curr_node.children))\n",
    "\n",
    "    return rollout(rnd_state)"
   ]
  },
  {
   "cell_type": "markdown",
   "id": "4479e3fb-f8e3-42ff-9dfd-4f4fd3d33521",
   "metadata": {},
   "source": [
    "Rollback function for backpropagation of new info for UCB calculation"
   ]
  },
  {
   "cell_type": "code",
   "execution_count": 15,
   "id": "9ef0d083-5ac6-41a7-93a0-485b962a442b",
   "metadata": {},
   "outputs": [],
   "source": [
    "def rollback(curr_node,reward):\n",
    "    curr_node.n+=1\n",
    "    curr_node.v+=reward\n",
    "    while(curr_node.parent!=None):\n",
    "        curr_node.N+=1\n",
    "        curr_node = curr_node.parent\n",
    "    return curr_node"
   ]
  },
  {
   "cell_type": "markdown",
   "id": "4b285312-cbfc-4410-b445-7c4b6f38ceb5",
   "metadata": {},
   "source": [
    "# Main function for use\n"
   ]
  },
  {
   "cell_type": "markdown",
   "id": "ae8e3c6e-9650-4829-886f-fe85e27198bc",
   "metadata": {},
   "source": [
    "1. Checks if game is over and returns -1 if it is\n",
    "2. Creates map_state_move dict with all move and nodes from current node\n",
    "3. Creates loop to iterate for input amount of iterations\n",
    "4. If white maximize, if black minimize\n",
    "5. Find min/max UCB in children, then expand, rollout, rollback.\n",
    "6. After iterations, find and returned min/max UCB depending on color"
   ]
  },
  {
   "cell_type": "code",
   "execution_count": 21,
   "id": "dc6f404c-7878-41e5-8464-d400223c31ae",
   "metadata": {},
   "outputs": [],
   "source": [
    "def mcts_pred(curr_node,over,white,iterations=10):\n",
    "    if(over):\n",
    "        return -1\n",
    "    all_moves = [curr_node.state.san(i) for i in list(curr_node.state.legal_moves)]\n",
    "    map_state_move = dict()\n",
    "    \n",
    "    for i in all_moves:\n",
    "        tmp_state = chess.Board(curr_node.state.fen())\n",
    "        tmp_state.push_san(i)\n",
    "        child = node()\n",
    "        child.state = tmp_state\n",
    "        child.parent = curr_node\n",
    "        curr_node.children.add(child)\n",
    "        map_state_move[child] = i\n",
    "        \n",
    "    while(iterations>0):\n",
    "        if(white):\n",
    "            idx = -1\n",
    "            max_ucb = -inf\n",
    "            sel_child = None\n",
    "            for i in curr_node.children:\n",
    "                tmp = ucb1(i)\n",
    "                if(tmp>max_ucb):\n",
    "                    idx = i\n",
    "                    max_ucb = tmp\n",
    "                    sel_child = i\n",
    "            ex_child = expand(sel_child,0)\n",
    "            reward,state = rollout(ex_child)\n",
    "            curr_node = rollback(state,reward)\n",
    "            iterations-=1\n",
    "        else:\n",
    "            idx = -1\n",
    "            min_ucb = inf\n",
    "            sel_child = None\n",
    "            for i in curr_node.children:\n",
    "                tmp = ucb1(i)\n",
    "                if(tmp<min_ucb):\n",
    "                    idx = i\n",
    "                    min_ucb = tmp\n",
    "                    sel_child = i\n",
    "\n",
    "            ex_child = expand(sel_child,1)\n",
    "\n",
    "            reward,state = rollout(ex_child)\n",
    "\n",
    "            curr_node = rollback(state,reward)\n",
    "            iterations-=1\n",
    "    if(white):\n",
    "        \n",
    "        mx = -inf\n",
    "        idx = -1\n",
    "        selected_move = ''\n",
    "        for i in (curr_node.children):\n",
    "            tmp = ucb1(i)\n",
    "            if(tmp>mx):\n",
    "                mx = tmp\n",
    "                selected_move = map_state_move[i]\n",
    "        return selected_move\n",
    "    else:\n",
    "        mn = inf\n",
    "        idx = -1\n",
    "        selected_move = ''\n",
    "        for i in (curr_node.children):\n",
    "            tmp = ucb1(i)\n",
    "            if(tmp<mn):\n",
    "                mn = tmp\n",
    "                selected_move = map_state_move[i]\n",
    "        return selected_move"
   ]
  },
  {
   "cell_type": "markdown",
   "id": "3fd777f5-ad4f-4620-8be3-0645344a0a6b",
   "metadata": {},
   "source": [
    "# How to Use"
   ]
  },
  {
   "cell_type": "code",
   "execution_count": null,
   "id": "00030599-3109-45a1-9076-288cb6b0b34e",
   "metadata": {},
   "outputs": [],
   "source": [
    "board = chess.Board()\n",
    "root = node()\n",
    "root.state = board\n",
    "\n",
    "is_white_to_move = board.turn\n",
    "\n",
    "\n",
    "best_move_san = mcts_pred(root, board.is_game_over(), is_white_to_move, iterations=10)\n",
    "\n",
    "print(\"Best Move:\", best_move_san)"
   ]
  },
  {
   "cell_type": "code",
   "execution_count": null,
   "id": "18237a19-fe45-462b-86a1-33b1fe795868",
   "metadata": {},
   "outputs": [],
   "source": []
  }
 ],
 "metadata": {
  "kernelspec": {
   "display_name": "Python 3 (ipykernel)",
   "language": "python",
   "name": "python3"
  },
  "language_info": {
   "codemirror_mode": {
    "name": "ipython",
    "version": 3
   },
   "file_extension": ".py",
   "mimetype": "text/x-python",
   "name": "python",
   "nbconvert_exporter": "python",
   "pygments_lexer": "ipython3",
   "version": "3.11.7"
  }
 },
 "nbformat": 4,
 "nbformat_minor": 5
}
