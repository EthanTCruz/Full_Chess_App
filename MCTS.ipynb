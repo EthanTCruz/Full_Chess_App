{
 "cells": [
  {
   "cell_type": "raw",
   "id": "1a5992b1-537d-41eb-b322-de280f63c149",
   "metadata": {},
   "source": [
    "pip install python-chess"
   ]
  },
  {
   "cell_type": "markdown",
   "id": "24b2d50b-b083-4399-82a4-792aaf4aeac1",
   "metadata": {},
   "source": [
    "Import necessary libraries"
   ]
  },
  {
   "cell_type": "code",
   "execution_count": 9,
   "id": "80903644-7b9f-4376-b6bf-e35635cc5d0d",
   "metadata": {},
   "outputs": [],
   "source": [
    "\n",
    "import chess\n",
    "import chess.pgn\n",
    "import chess.engine\n",
    "import random\n",
    "import time\n",
    "from math import log,sqrt,e,inf"
   ]
  },
  {
   "cell_type": "markdown",
   "id": "c8f4ba5a-13ce-4489-8df0-acbffe387527",
   "metadata": {},
   "source": [
    "Create MCTS node class for holding board position, action taken to get to position, children nodes, parent node, N for number of times parent node has been visited, n for number of times child node has been visited and V for score of current node. \n",
    "Formula to be used for explore/exploit:\n",
    "UCB = V + 2*sqrt(ln N/n)"
   ]
  },
  {
   "cell_type": "code",
   "execution_count": 10,
   "id": "ba7f5093-ab9d-448e-be77-97860ff64de1",
   "metadata": {},
   "outputs": [],
   "source": [
    "class node():\n",
    "    def __init__(self):\n",
    "        self.state = chess.Board()\n",
    "        self.action = ''\n",
    "        self.children = set()\n",
    "        self.parent = None\n",
    "        self.N = 0\n",
    "        self.n = 0\n",
    "        self.v = 0"
   ]
  },
  {
   "cell_type": "markdown",
   "id": "3bf07e37-3528-4dc8-b40a-fe0ec115bdc8",
   "metadata": {},
   "source": [
    "Function for calculation of UCB:"
   ]
  },
  {
   "cell_type": "code",
   "execution_count": 12,
   "id": "a6a6ffb0-3dc1-4117-aad6-fdea81bc3f94",
   "metadata": {},
   "outputs": [],
   "source": [
    "def ucb1(curr_node):\n",
    "    ans = curr_node.v+2*(sqrt(log(curr_node.N+e+(10**-6))/(curr_node.n+(10**-10))))\n",
    "    return ans"
   ]
  },
  {
   "cell_type": "markdown",
   "id": "e1502bd0-430f-4de2-ae52-32f467ec93f3",
   "metadata": {},
   "source": [
    "Function for expanding nodes before random playout"
   ]
  },
  {
   "cell_type": "code",
   "execution_count": 14,
   "id": "1d938dbf-186d-4ea7-9438-309111e4c435",
   "metadata": {},
   "outputs": [],
   "source": [
    "def expand(curr_node,white):\n",
    "    if(len(curr_node.children)==0):\n",
    "        return curr_node\n",
    "    max_ucb = -inf\n",
    "    if(white):\n",
    "        idx = -1\n",
    "        max_ucb = -inf\n",
    "        sel_child = None\n",
    "        for i in curr_node.children:\n",
    "            tmp = ucb1(i)\n",
    "            if(tmp>max_ucb):\n",
    "                idx = i\n",
    "                max_ucb = tmp\n",
    "                sel_child = i\n",
    "\n",
    "        return(expand(sel_child,0))\n",
    "\n",
    "    else:\n",
    "        idx = -1\n",
    "        min_ucb = inf\n",
    "        sel_child = None\n",
    "        for i in curr_node.children:\n",
    "            tmp = ucb1(i)\n",
    "            if(tmp<min_ucb):\n",
    "                idx = i\n",
    "                min_ucb = tmp\n",
    "                sel_child = i\n",
    "\n",
    "        return expand(sel_child,1)\n",
    "\n"
   ]
  },
  {
   "cell_type": "markdown",
   "id": "7ba3b4a9-0b7a-41bf-8db1-e44a5f81c33f",
   "metadata": {},
   "source": [
    "Simulate play function (Rollout in MCTS)"
   ]
  },
  {
   "cell_type": "code",
   "execution_count": 13,
   "id": "e8ce3128-eed7-4722-85b2-d3ea6bf0f45a",
   "metadata": {},
   "outputs": [],
   "source": [
    "def rollout(curr_node):\n",
    "    \n",
    "    if(curr_node.state.is_game_over()):\n",
    "        board = curr_node.state\n",
    "        if(board.result()=='1-0'):\n",
    "            #print(\"h1\")\n",
    "            return (1,curr_node)\n",
    "        elif(board.result()=='0-1'):\n",
    "            #print(\"h2\")\n",
    "            return (-1,curr_node)\n",
    "        else:\n",
    "            return (0.5,curr_node)\n",
    "    \n",
    "    all_moves = [curr_node.state.san(i) for i in list(curr_node.state.legal_moves)]\n",
    "    \n",
    "    for i in all_moves:\n",
    "        tmp_state = chess.Board(curr_node.state.fen())\n",
    "        tmp_state.push_san(i)\n",
    "        child = node()\n",
    "        child.state = tmp_state\n",
    "        child.parent = curr_node\n",
    "        curr_node.children.add(child)\n",
    "    rnd_state = random.choice(list(curr_node.children))\n",
    "\n",
    "    return rollout(rnd_state)"
   ]
  },
  {
   "cell_type": "markdown",
   "id": "4479e3fb-f8e3-42ff-9dfd-4f4fd3d33521",
   "metadata": {},
   "source": [
    "Rollback function for backpropagation of new info for UCB calculation"
   ]
  },
  {
   "cell_type": "code",
   "execution_count": 15,
   "id": "9ef0d083-5ac6-41a7-93a0-485b962a442b",
   "metadata": {},
   "outputs": [],
   "source": [
    "def rollback(curr_node,reward):\n",
    "    curr_node.n+=1\n",
    "    curr_node.v+=reward\n",
    "    while(curr_node.parent!=None):\n",
    "        curr_node.N+=1\n",
    "        curr_node = curr_node.parent\n",
    "    return curr_node"
   ]
  },
  {
   "cell_type": "markdown",
   "id": "4b285312-cbfc-4410-b445-7c4b6f38ceb5",
   "metadata": {},
   "source": [
    "# Main function for use\n"
   ]
  },
  {
   "cell_type": "markdown",
   "id": "ae8e3c6e-9650-4829-886f-fe85e27198bc",
   "metadata": {},
   "source": [
    "1. Checks if game is over and returns -1 if it is\n",
    "2. Creates map_state_move dict with all move and nodes from current node\n",
    "3. Creates loop to iterate for input amount of iterations\n",
    "4. If white maximize, if black minimize\n",
    "5. Find min/max UCB in children, then expand, rollout, rollback.\n",
    "6. After iterations, find and returned min/max UCB depending on color"
   ]
  },
  {
   "cell_type": "code",
   "execution_count": 21,
   "id": "dc6f404c-7878-41e5-8464-d400223c31ae",
   "metadata": {},
   "outputs": [],
   "source": [
    "def mcts_pred(curr_node,over,white,iterations=10):\n",
    "    if(over):\n",
    "        return -1\n",
    "    all_moves = [curr_node.state.san(i) for i in list(curr_node.state.legal_moves)]\n",
    "    map_state_move = dict()\n",
    "    \n",
    "    for i in all_moves:\n",
    "        tmp_state = chess.Board(curr_node.state.fen())\n",
    "        tmp_state.push_san(i)\n",
    "        child = node()\n",
    "        child.state = tmp_state\n",
    "        child.parent = curr_node\n",
    "        curr_node.children.add(child)\n",
    "        map_state_move[child] = i\n",
    "        \n",
    "    while(iterations>0):\n",
    "        if(white):\n",
    "            idx = -1\n",
    "            max_ucb = -inf\n",
    "            sel_child = None\n",
    "            for i in curr_node.children:\n",
    "                tmp = ucb1(i)\n",
    "                if(tmp>max_ucb):\n",
    "                    idx = i\n",
    "                    max_ucb = tmp\n",
    "                    sel_child = i\n",
    "            ex_child = expand(sel_child,0)\n",
    "            reward,state = rollout(ex_child)\n",
    "            curr_node = rollback(state,reward)\n",
    "            iterations-=1\n",
    "        else:\n",
    "            idx = -1\n",
    "            min_ucb = inf\n",
    "            sel_child = None\n",
    "            for i in curr_node.children:\n",
    "                tmp = ucb1(i)\n",
    "                if(tmp<min_ucb):\n",
    "                    idx = i\n",
    "                    min_ucb = tmp\n",
    "                    sel_child = i\n",
    "\n",
    "            ex_child = expand(sel_child,1)\n",
    "\n",
    "            reward,state = rollout(ex_child)\n",
    "\n",
    "            curr_node = rollback(state,reward)\n",
    "            iterations-=1\n",
    "    if(white):\n",
    "        \n",
    "        mx = -inf\n",
    "        idx = -1\n",
    "        selected_move = ''\n",
    "        for i in (curr_node.children):\n",
    "            tmp = ucb1(i)\n",
    "            if(tmp>mx):\n",
    "                mx = tmp\n",
    "                selected_move = map_state_move[i]\n",
    "        return selected_move\n",
    "    else:\n",
    "        mn = inf\n",
    "        idx = -1\n",
    "        selected_move = ''\n",
    "        for i in (curr_node.children):\n",
    "            tmp = ucb1(i)\n",
    "            if(tmp<mn):\n",
    "                mn = tmp\n",
    "                selected_move = map_state_move[i]\n",
    "        return selected_move"
   ]
  },
  {
   "cell_type": "markdown",
   "id": "3fd777f5-ad4f-4620-8be3-0645344a0a6b",
   "metadata": {},
   "source": [
    "# How to Use"
   ]
  },
  {
   "cell_type": "code",
   "execution_count": 24,
   "id": "00030599-3109-45a1-9076-288cb6b0b34e",
   "metadata": {},
   "outputs": [
    {
     "name": "stdout",
     "output_type": "stream",
     "text": [
      "Best Move: h4\n"
     ]
    }
   ],
   "source": [
    "\n",
    "board = chess.Board()\n",
    "root = node()\n",
    "root.state = board\n",
    "\n",
    "is_white_to_move = board.turn\n",
    "\n",
    "\n",
    "best_move_san = mcts_pred(root, board.is_game_over(), is_white_to_move, iterations=10)\n",
    "\n",
    "print(\"Best Move:\", best_move_san)"
   ]
  },
  {
   "cell_type": "markdown",
   "id": "39db8458-272d-4aaa-b7a6-80e4d849da7c",
   "metadata": {},
   "source": [
    "# How long does it take?"
   ]
  },
  {
   "cell_type": "code",
   "execution_count": 27,
   "id": "5e1492e8-7d03-4027-84e1-d05a9fa953d3",
   "metadata": {},
   "outputs": [
    {
     "name": "stdout",
     "output_type": "stream",
     "text": [
      "10 iterations took 7.329426050186157 seconds to run.\n",
      "15 iterations took 12.141134977340698 seconds to run.\n",
      "20 iterations took 16.26421594619751 seconds to run.\n",
      "30 iterations took 24.37513566017151 seconds to run.\n"
     ]
    }
   ],
   "source": [
    "import time\n",
    "\n",
    "board = chess.Board()\n",
    "root = node()\n",
    "root.state = board\n",
    "\n",
    "is_white_to_move = board.turn\n",
    "\n",
    "start = time.time()\n",
    "best_move_san = mcts_pred(root, board.is_game_over(), is_white_to_move, iterations=10)\n",
    "end = time.time()\n",
    "\n",
    "duration = end - start\n",
    "\n",
    "print(f\"10 iterations took {duration} seconds to run.\")\n",
    "\n",
    "\n",
    "board = chess.Board()\n",
    "root = node()\n",
    "root.state = board\n",
    "\n",
    "is_white_to_move = board.turn\n",
    "\n",
    "start = time.time()\n",
    "best_move_san = mcts_pred(root, board.is_game_over(), is_white_to_move, iterations=15)\n",
    "end = time.time()\n",
    "\n",
    "duration = end - start\n",
    "\n",
    "print(f\"15 iterations took {duration} seconds to run.\")\n",
    "\n",
    "board = chess.Board()\n",
    "root = node()\n",
    "root.state = board\n",
    "\n",
    "is_white_to_move = board.turn\n",
    "\n",
    "start = time.time()\n",
    "best_move_san = mcts_pred(root, board.is_game_over(), is_white_to_move, iterations=20)\n",
    "end = time.time()\n",
    "\n",
    "duration = end - start\n",
    "\n",
    "print(f\"20 iterations took {duration} seconds to run.\")\n",
    "\n",
    "board = chess.Board()\n",
    "root = node()\n",
    "root.state = board\n",
    "\n",
    "is_white_to_move = board.turn\n",
    "\n",
    "start = time.time()\n",
    "best_move_san = mcts_pred(root, board.is_game_over(), is_white_to_move, iterations=30)\n",
    "end = time.time()\n",
    "\n",
    "duration = end - start\n",
    "\n",
    "print(f\"30 iterations took {duration} seconds to run.\")"
   ]
  }
 ],
 "metadata": {
  "kernelspec": {
   "display_name": "Python 3 (ipykernel)",
   "language": "python",
   "name": "python3"
  },
  "language_info": {
   "codemirror_mode": {
    "name": "ipython",
    "version": 3
   },
   "file_extension": ".py",
   "mimetype": "text/x-python",
   "name": "python",
   "nbconvert_exporter": "python",
   "pygments_lexer": "ipython3",
   "version": "3.11.7"
  }
 },
 "nbformat": 4,
 "nbformat_minor": 5
}
