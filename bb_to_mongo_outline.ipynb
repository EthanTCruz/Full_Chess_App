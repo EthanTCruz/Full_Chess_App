{
 "cells": [
  {
   "cell_type": "markdown",
   "id": "6c397b7a-07d4-4750-8293-d06d73f11af3",
   "metadata": {},
   "source": [
    "### Importing libraries"
   ]
  },
  {
   "cell_type": "code",
   "execution_count": 2,
   "id": "aaae869a-c31f-4a60-b334-339b1c117201",
   "metadata": {},
   "outputs": [],
   "source": [
    "import chess\n",
    "import numpy as np"
   ]
  },
  {
   "cell_type": "markdown",
   "id": "0f02b1b1-ca7a-4a95-920c-8a82a38c4811",
   "metadata": {},
   "source": [
    "### Global Variables"
   ]
  },
  {
   "cell_type": "code",
   "execution_count": 3,
   "id": "4739f3eb-1b96-46b2-aa34-fca364c43b7c",
   "metadata": {},
   "outputs": [],
   "source": [
    "board = chess.Board()"
   ]
  },
  {
   "cell_type": "markdown",
   "id": "ce6dde15-3b91-40f8-939a-72b879627e80",
   "metadata": {},
   "source": [
    "### Function for board to bitboard (upload this to mongo)"
   ]
  },
  {
   "cell_type": "code",
   "execution_count": 4,
   "id": "67e017fc-57c6-4b67-b978-a9de02499f06",
   "metadata": {},
   "outputs": [],
   "source": [
    "def board_to_bitboards(board):\n",
    "    bitboards = {}\n",
    "    for color in (chess.WHITE, chess.BLACK):\n",
    "        for piece_type in chess.PIECE_TYPES:\n",
    "            bitboard = 0\n",
    "            for square in chess.SQUARES:\n",
    "                piece = board.piece_at(square)\n",
    "                if piece and piece.piece_type == piece_type and piece.color == color:\n",
    "                    bitboard |= 1 << square\n",
    "            color_name = 'White' if color == chess.WHITE else 'Black'\n",
    "            piece_name = chess.piece_name(piece_type).capitalize()\n",
    "            bitboards[f\"{color_name} {piece_name}\"] = bitboard\n",
    "    return bitboards\n"
   ]
  },
  {
   "cell_type": "code",
   "execution_count": 5,
   "id": "d1f3cead-0a3e-4771-a4b1-1b8b5d5d25f9",
   "metadata": {},
   "outputs": [
    {
     "data": {
      "text/plain": [
       "{'White Pawn': 65280,\n",
       " 'White Knight': 66,\n",
       " 'White Bishop': 36,\n",
       " 'White Rook': 129,\n",
       " 'White Queen': 8,\n",
       " 'White King': 16,\n",
       " 'Black Pawn': 71776119061217280,\n",
       " 'Black Knight': 4755801206503243776,\n",
       " 'Black Bishop': 2594073385365405696,\n",
       " 'Black Rook': 9295429630892703744,\n",
       " 'Black Queen': 576460752303423488,\n",
       " 'Black King': 1152921504606846976}"
      ]
     },
     "execution_count": 5,
     "metadata": {},
     "output_type": "execute_result"
    }
   ],
   "source": [
    "board_to_bitboards(board)"
   ]
  },
  {
   "cell_type": "markdown",
   "id": "5a03067e-e12f-4533-bd82-e8d8262ea0fd",
   "metadata": {},
   "source": [
    "### Converting Bitboards to binary"
   ]
  },
  {
   "cell_type": "code",
   "execution_count": 6,
   "id": "45caa1b0-d209-4363-8b09-5108f2b40ac9",
   "metadata": {},
   "outputs": [
    {
     "name": "stdout",
     "output_type": "stream",
     "text": [
      "White Pawn Bitboard: 0000000000000000000000000000000000000000000000001111111100000000\n",
      "White Knight Bitboard: 0000000000000000000000000000000000000000000000000000000001000010\n",
      "White Bishop Bitboard: 0000000000000000000000000000000000000000000000000000000000100100\n",
      "White Rook Bitboard: 0000000000000000000000000000000000000000000000000000000010000001\n",
      "White Queen Bitboard: 0000000000000000000000000000000000000000000000000000000000001000\n",
      "White King Bitboard: 0000000000000000000000000000000000000000000000000000000000010000\n",
      "Black Pawn Bitboard: 0000000011111111000000000000000000000000000000000000000000000000\n",
      "Black Knight Bitboard: 0100001000000000000000000000000000000000000000000000000000000000\n",
      "Black Bishop Bitboard: 0010010000000000000000000000000000000000000000000000000000000000\n",
      "Black Rook Bitboard: 1000000100000000000000000000000000000000000000000000000000000000\n",
      "Black Queen Bitboard: 0000100000000000000000000000000000000000000000000000000000000000\n",
      "Black King Bitboard: 0001000000000000000000000000000000000000000000000000000000000000\n"
     ]
    }
   ],
   "source": [
    "bitboards = board_to_bitboards(board)\n",
    "for name, bitboard in bitboards.items():\n",
    "    print(f\"{name} Bitboard: {bitboard:064b}\")\n"
   ]
  },
  {
   "cell_type": "markdown",
   "id": "843529d9-5e77-4d7b-b6aa-2588feec3755",
   "metadata": {},
   "source": [
    "### Full function for reshaping bitboards from mongo"
   ]
  },
  {
   "cell_type": "code",
   "execution_count": 7,
   "id": "a8a14c60-0dd4-4f05-87d7-6aa2949c4061",
   "metadata": {},
   "outputs": [
    {
     "name": "stdout",
     "output_type": "stream",
     "text": [
      "[[0 0 0 0 0 0 0 0]\n",
      " [0 0 0 0 0 0 0 0]\n",
      " [0 0 0 0 0 0 0 0]\n",
      " [0 0 0 0 0 0 0 0]\n",
      " [0 0 0 0 0 0 0 0]\n",
      " [0 0 0 0 0 0 0 0]\n",
      " [0 0 0 0 0 0 0 0]\n",
      " [0 0 1 0 0 1 0 0]]\n",
      "[[0 0 0 0 0 0 0 0]\n",
      " [0 0 0 0 0 0 0 0]\n",
      " [0 0 0 0 0 0 0 0]\n",
      " [0 0 0 0 0 0 0 0]\n",
      " [0 0 0 0 0 0 0 0]\n",
      " [0 0 0 0 0 0 0 0]\n",
      " [0 0 0 0 0 0 0 0]\n",
      " [0 0 0 0 1 0 0 0]]\n",
      "[[0 0 0 0 0 0 0 0]\n",
      " [0 0 0 0 0 0 0 0]\n",
      " [0 0 0 0 0 0 0 0]\n",
      " [0 0 0 0 0 0 0 0]\n",
      " [0 0 0 0 0 0 0 0]\n",
      " [0 0 0 0 0 0 0 0]\n",
      " [0 0 0 0 0 0 0 0]\n",
      " [0 1 0 0 0 0 1 0]]\n",
      "[[0 0 0 0 0 0 0 0]\n",
      " [0 0 0 0 0 0 0 0]\n",
      " [0 0 0 0 0 0 0 0]\n",
      " [0 0 0 0 0 0 0 0]\n",
      " [0 0 0 0 0 0 0 0]\n",
      " [0 0 0 0 0 0 0 0]\n",
      " [1 1 1 1 1 1 1 1]\n",
      " [0 0 0 0 0 0 0 0]]\n",
      "[[0 0 0 0 0 0 0 0]\n",
      " [0 0 0 0 0 0 0 0]\n",
      " [0 0 0 0 0 0 0 0]\n",
      " [0 0 0 0 0 0 0 0]\n",
      " [0 0 0 0 0 0 0 0]\n",
      " [0 0 0 0 0 0 0 0]\n",
      " [0 0 0 0 0 0 0 0]\n",
      " [0 0 0 1 0 0 0 0]]\n",
      "[[0 0 0 0 0 0 0 0]\n",
      " [0 0 0 0 0 0 0 0]\n",
      " [0 0 0 0 0 0 0 0]\n",
      " [0 0 0 0 0 0 0 0]\n",
      " [0 0 0 0 0 0 0 0]\n",
      " [0 0 0 0 0 0 0 0]\n",
      " [0 0 0 0 0 0 0 0]\n",
      " [1 0 0 0 0 0 0 1]]\n",
      "[[0 0 1 0 0 1 0 0]\n",
      " [0 0 0 0 0 0 0 0]\n",
      " [0 0 0 0 0 0 0 0]\n",
      " [0 0 0 0 0 0 0 0]\n",
      " [0 0 0 0 0 0 0 0]\n",
      " [0 0 0 0 0 0 0 0]\n",
      " [0 0 0 0 0 0 0 0]\n",
      " [0 0 0 0 0 0 0 0]]\n",
      "[[0 0 0 0 1 0 0 0]\n",
      " [0 0 0 0 0 0 0 0]\n",
      " [0 0 0 0 0 0 0 0]\n",
      " [0 0 0 0 0 0 0 0]\n",
      " [0 0 0 0 0 0 0 0]\n",
      " [0 0 0 0 0 0 0 0]\n",
      " [0 0 0 0 0 0 0 0]\n",
      " [0 0 0 0 0 0 0 0]]\n",
      "[[0 1 0 0 0 0 1 0]\n",
      " [0 0 0 0 0 0 0 0]\n",
      " [0 0 0 0 0 0 0 0]\n",
      " [0 0 0 0 0 0 0 0]\n",
      " [0 0 0 0 0 0 0 0]\n",
      " [0 0 0 0 0 0 0 0]\n",
      " [0 0 0 0 0 0 0 0]\n",
      " [0 0 0 0 0 0 0 0]]\n",
      "[[0 0 0 0 0 0 0 0]\n",
      " [1 1 1 1 1 1 1 1]\n",
      " [0 0 0 0 0 0 0 0]\n",
      " [0 0 0 0 0 0 0 0]\n",
      " [0 0 0 0 0 0 0 0]\n",
      " [0 0 0 0 0 0 0 0]\n",
      " [0 0 0 0 0 0 0 0]\n",
      " [0 0 0 0 0 0 0 0]]\n",
      "[[0 0 0 1 0 0 0 0]\n",
      " [0 0 0 0 0 0 0 0]\n",
      " [0 0 0 0 0 0 0 0]\n",
      " [0 0 0 0 0 0 0 0]\n",
      " [0 0 0 0 0 0 0 0]\n",
      " [0 0 0 0 0 0 0 0]\n",
      " [0 0 0 0 0 0 0 0]\n",
      " [0 0 0 0 0 0 0 0]]\n",
      "[[1 0 0 0 0 0 0 1]\n",
      " [0 0 0 0 0 0 0 0]\n",
      " [0 0 0 0 0 0 0 0]\n",
      " [0 0 0 0 0 0 0 0]\n",
      " [0 0 0 0 0 0 0 0]\n",
      " [0 0 0 0 0 0 0 0]\n",
      " [0 0 0 0 0 0 0 0]\n",
      " [0 0 0 0 0 0 0 0]]\n"
     ]
    },
    {
     "data": {
      "text/plain": [
       "array([[[0, 0, 0, 0, 0, 0, 0, 0, 0, 0, 0, 1],\n",
       "        [0, 0, 0, 0, 0, 0, 0, 0, 1, 0, 0, 0],\n",
       "        [0, 0, 0, 0, 0, 0, 1, 0, 0, 0, 0, 0],\n",
       "        [0, 0, 0, 0, 0, 0, 0, 0, 0, 0, 1, 0],\n",
       "        [0, 0, 0, 0, 0, 0, 0, 1, 0, 0, 0, 0],\n",
       "        [0, 0, 0, 0, 0, 0, 1, 0, 0, 0, 0, 0],\n",
       "        [0, 0, 0, 0, 0, 0, 0, 0, 1, 0, 0, 0],\n",
       "        [0, 0, 0, 0, 0, 0, 0, 0, 0, 0, 0, 1]],\n",
       "\n",
       "       [[0, 0, 0, 0, 0, 0, 0, 0, 0, 1, 0, 0],\n",
       "        [0, 0, 0, 0, 0, 0, 0, 0, 0, 1, 0, 0],\n",
       "        [0, 0, 0, 0, 0, 0, 0, 0, 0, 1, 0, 0],\n",
       "        [0, 0, 0, 0, 0, 0, 0, 0, 0, 1, 0, 0],\n",
       "        [0, 0, 0, 0, 0, 0, 0, 0, 0, 1, 0, 0],\n",
       "        [0, 0, 0, 0, 0, 0, 0, 0, 0, 1, 0, 0],\n",
       "        [0, 0, 0, 0, 0, 0, 0, 0, 0, 1, 0, 0],\n",
       "        [0, 0, 0, 0, 0, 0, 0, 0, 0, 1, 0, 0]],\n",
       "\n",
       "       [[0, 0, 0, 0, 0, 0, 0, 0, 0, 0, 0, 0],\n",
       "        [0, 0, 0, 0, 0, 0, 0, 0, 0, 0, 0, 0],\n",
       "        [0, 0, 0, 0, 0, 0, 0, 0, 0, 0, 0, 0],\n",
       "        [0, 0, 0, 0, 0, 0, 0, 0, 0, 0, 0, 0],\n",
       "        [0, 0, 0, 0, 0, 0, 0, 0, 0, 0, 0, 0],\n",
       "        [0, 0, 0, 0, 0, 0, 0, 0, 0, 0, 0, 0],\n",
       "        [0, 0, 0, 0, 0, 0, 0, 0, 0, 0, 0, 0],\n",
       "        [0, 0, 0, 0, 0, 0, 0, 0, 0, 0, 0, 0]],\n",
       "\n",
       "       [[0, 0, 0, 0, 0, 0, 0, 0, 0, 0, 0, 0],\n",
       "        [0, 0, 0, 0, 0, 0, 0, 0, 0, 0, 0, 0],\n",
       "        [0, 0, 0, 0, 0, 0, 0, 0, 0, 0, 0, 0],\n",
       "        [0, 0, 0, 0, 0, 0, 0, 0, 0, 0, 0, 0],\n",
       "        [0, 0, 0, 0, 0, 0, 0, 0, 0, 0, 0, 0],\n",
       "        [0, 0, 0, 0, 0, 0, 0, 0, 0, 0, 0, 0],\n",
       "        [0, 0, 0, 0, 0, 0, 0, 0, 0, 0, 0, 0],\n",
       "        [0, 0, 0, 0, 0, 0, 0, 0, 0, 0, 0, 0]],\n",
       "\n",
       "       [[0, 0, 0, 0, 0, 0, 0, 0, 0, 0, 0, 0],\n",
       "        [0, 0, 0, 0, 0, 0, 0, 0, 0, 0, 0, 0],\n",
       "        [0, 0, 0, 0, 0, 0, 0, 0, 0, 0, 0, 0],\n",
       "        [0, 0, 0, 0, 0, 0, 0, 0, 0, 0, 0, 0],\n",
       "        [0, 0, 0, 0, 0, 0, 0, 0, 0, 0, 0, 0],\n",
       "        [0, 0, 0, 0, 0, 0, 0, 0, 0, 0, 0, 0],\n",
       "        [0, 0, 0, 0, 0, 0, 0, 0, 0, 0, 0, 0],\n",
       "        [0, 0, 0, 0, 0, 0, 0, 0, 0, 0, 0, 0]],\n",
       "\n",
       "       [[0, 0, 0, 0, 0, 0, 0, 0, 0, 0, 0, 0],\n",
       "        [0, 0, 0, 0, 0, 0, 0, 0, 0, 0, 0, 0],\n",
       "        [0, 0, 0, 0, 0, 0, 0, 0, 0, 0, 0, 0],\n",
       "        [0, 0, 0, 0, 0, 0, 0, 0, 0, 0, 0, 0],\n",
       "        [0, 0, 0, 0, 0, 0, 0, 0, 0, 0, 0, 0],\n",
       "        [0, 0, 0, 0, 0, 0, 0, 0, 0, 0, 0, 0],\n",
       "        [0, 0, 0, 0, 0, 0, 0, 0, 0, 0, 0, 0],\n",
       "        [0, 0, 0, 0, 0, 0, 0, 0, 0, 0, 0, 0]],\n",
       "\n",
       "       [[0, 0, 0, 1, 0, 0, 0, 0, 0, 0, 0, 0],\n",
       "        [0, 0, 0, 1, 0, 0, 0, 0, 0, 0, 0, 0],\n",
       "        [0, 0, 0, 1, 0, 0, 0, 0, 0, 0, 0, 0],\n",
       "        [0, 0, 0, 1, 0, 0, 0, 0, 0, 0, 0, 0],\n",
       "        [0, 0, 0, 1, 0, 0, 0, 0, 0, 0, 0, 0],\n",
       "        [0, 0, 0, 1, 0, 0, 0, 0, 0, 0, 0, 0],\n",
       "        [0, 0, 0, 1, 0, 0, 0, 0, 0, 0, 0, 0],\n",
       "        [0, 0, 0, 1, 0, 0, 0, 0, 0, 0, 0, 0]],\n",
       "\n",
       "       [[0, 0, 0, 0, 0, 1, 0, 0, 0, 0, 0, 0],\n",
       "        [0, 0, 1, 0, 0, 0, 0, 0, 0, 0, 0, 0],\n",
       "        [1, 0, 0, 0, 0, 0, 0, 0, 0, 0, 0, 0],\n",
       "        [0, 0, 0, 0, 1, 0, 0, 0, 0, 0, 0, 0],\n",
       "        [0, 1, 0, 0, 0, 0, 0, 0, 0, 0, 0, 0],\n",
       "        [1, 0, 0, 0, 0, 0, 0, 0, 0, 0, 0, 0],\n",
       "        [0, 0, 1, 0, 0, 0, 0, 0, 0, 0, 0, 0],\n",
       "        [0, 0, 0, 0, 0, 1, 0, 0, 0, 0, 0, 0]]])"
      ]
     },
     "execution_count": 7,
     "metadata": {},
     "output_type": "execute_result"
    }
   ],
   "source": [
    "def bitboard_to_matrix(bitboard):\n",
    "    return np.array([(bitboard >> shift) & 1 for shift in range(64)]).reshape(8, 8)\n",
    "def create_cnn_input(bitboards):\n",
    "    layers = []\n",
    "    for key in sorted(bitboards.keys()):  # Ensure consistent order\n",
    "        matrix = bitboard_to_matrix(bitboards[key])\n",
    "        print(matrix)\n",
    "        layers.append(matrix)\n",
    "    return np.stack(layers, axis=-1)\n",
    "create_cnn_input(bitboards)"
   ]
  },
  {
   "cell_type": "code",
   "execution_count": null,
   "id": "19667656-6ed7-4cde-9e93-78451d412477",
   "metadata": {},
   "outputs": [],
   "source": [
    "def process_sqlite_boards_to_mongo(self, batch_size: int = 5):\n",
    "    with tf.io.TFRecordWriter(Settings().recordsData) as writer:\n",
    "        with SessionLocal() as db:\n",
    "            row_count = get_rollup_row_count(db=db)\n",
    "            batch = fetch_all_game_positions_rollup(yield_size=500, db=db)\n",
    "            serialized_examples = []  # List to accumulate serialized examples\n",
    "            for game in tqdm(batch, total=row_count, desc=\"Processing Feature Data\"):\n",
    "                try:\n",
    "                    if game:\n",
    "                        self.evaluator.setup_parameters_gamepositions(game=game)\n",
    "                        score = self.evaluator.get_board_scores_records()\n",
    "\n",
    "                        serialized_data = serialize_data(score)\n",
    "                        \n",
    "                        features = {\n",
    "                        'bitboards': _bytes_feature(serialized_data[0].numpy()),\n",
    "                        'metadata': _bytes_feature(serialized_data[1].numpy()),\n",
    "                        'target': _bytes_feature(serialized_data[2].numpy())\n",
    "                        }\n",
    "                        \n",
    "                        serialized_data = tf.train.Example(features=tf.train.Features(feature=features))\n",
    "\n",
    "                        serialized_examples.append(serialized_data)\n",
    "\n",
    "                        # Check if we've accumulated enough examples to write a batch\n",
    "                        if len(serialized_examples) >= batch_size:\n",
    "                            for serialized_example in serialized_examples:\n",
    "                                writer.write(serialized_example.SerializeToString())\n",
    "                            serialized_examples = []  # Reset the list after writing\n",
    "                    else:\n",
    "                        return 1\n",
    "                except Exception as e:\n",
    "                    raise Exception(e)\n",
    "            \n",
    "            # Write any remaining examples after looping through all games\n",
    "            for serialized_example in serialized_examples:\n",
    "                writer.write(serialized_example)"
   ]
  }
 ],
 "metadata": {
  "kernelspec": {
   "display_name": "Python 3 (ipykernel)",
   "language": "python",
   "name": "python3"
  },
  "language_info": {
   "codemirror_mode": {
    "name": "ipython",
    "version": 3
   },
   "file_extension": ".py",
   "mimetype": "text/x-python",
   "name": "python",
   "nbconvert_exporter": "python",
   "pygments_lexer": "ipython3",
   "version": "3.11.7"
  }
 },
 "nbformat": 4,
 "nbformat_minor": 5
}
